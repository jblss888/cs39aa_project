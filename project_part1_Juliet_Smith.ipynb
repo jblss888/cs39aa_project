{
  "cells": [
    {
      "cell_type": "markdown",
      "metadata": {
        "id": "view-in-github",
        "colab_type": "text"
      },
      "source": [
        "<a href=\"https://colab.research.google.com/github/jblss888/cs39aa_project/blob/main/project_part1_Juliet_Smith.ipynb\" target=\"_parent\"><img src=\"https://colab.research.google.com/assets/colab-badge.svg\" alt=\"Open In Colab\"/></a>"
      ]
    },
    {
      "cell_type": "markdown",
      "metadata": {
        "id": "K_ezlUWEVkFO"
      },
      "source": [
        "# Project Part 1, Juliet Smith\n"
      ]
    },
    {
      "cell_type": "markdown",
      "metadata": {
        "id": "At9uoqsQVkFW"
      },
      "source": [
        "## Introduction/Background\n",
        "\n",
        "The dataset I am using is from Hugging Face, its called Limit. This dataset uses about 23,500 English sentences to detecting written motion. It is a is trying to solve two classification problems: binary classification and multi-classification. Classification problems are basically trying to decide what belongs with what. The binary test classification is a simple yes or no answer. Does the sentence have movement? The kind of movement the model is trying to detect is physical movenment. For example: \"the ball bounced across the court\" would has physical movement. If the sentence has motion it would be classified as yes. \n",
        "\n",
        "\n",
        "The column labled \"motion\" provides the answer. This dataset could also be used for multi-class-classification. It would look for what/who is moving. The dataset calls these \"entities\" and can be found in the column labled \"motion_entities\".\n"
      ]
    },
    {
      "cell_type": "markdown",
      "metadata": {
        "id": "QiEDKq2rVkFX"
      },
      "source": [
        "## Exploratory Data Analysis"
      ]
    },
    {
      "cell_type": "code",
      "source": [
        "!pip install datasets #This allows datasets to be used in python\n",
        "!pip install nltk \n"
      ],
      "metadata": {
        "id": "9gBGli1COw6F"
      },
      "execution_count": null,
      "outputs": []
    },
    {
      "cell_type": "code",
      "execution_count": null,
      "metadata": {
        "id": "gd5nFJoMVkFY"
      },
      "outputs": [],
      "source": [
        "import pandas as pd # this is the tool I will use to inteact with the dataset\n",
        "from datasets import load_dataset # this will let me load the dataset \"LiMit\" from Hugging Face\n",
        "import nltk # This will help me break up sentences into individual words\n",
        "nltk.download('punkt')\n",
        "nltk.download('wordnet')\n",
        "nltk.download('omw-1.4')"
      ]
    },
    {
      "cell_type": "code",
      "execution_count": null,
      "metadata": {
        "id": "QnsgvCGrVkFa"
      },
      "outputs": [],
      "source": [
        "# Loaing \"LiMiT\" dataset\n",
        "dataset = load_dataset(\"limit\")\n"
      ]
    },
    {
      "cell_type": "markdown",
      "source": [
        "When I first saw this dataset I was worried about the data being unblanced. I had saw mostly \"yes\" and very few \"no\" in the motion column. I was afraid that the data might be skewed to favor \"yes\". This is basically counting how many \"yes\" and \"no\" answers there are in the motion column; both for the trainging data and the test data. The ratio still favors yes by about 2 times more than no. However, I think that this is balenced enough to be a good dataset. Mostly because it's other purpose is tying to identify who/what is moving. "
      ],
      "metadata": {
        "id": "t1N4WWf9QUht"
      }
    },
    {
      "cell_type": "code",
      "source": [
        "train_cases = pd.Series(dataset[\"train\"]['motion']).value_counts()\n",
        "test_cases = pd.Series(dataset[\"test\"]['motion']).value_counts()\n",
        "\n",
        "print(train_cases)\n",
        "print(test_cases)"
      ],
      "metadata": {
        "colab": {
          "base_uri": "https://localhost:8080/"
        },
        "id": "OmMF1T6mQL9b",
        "outputId": "753a45ae-fd9b-4d35-9590-4a8f55ca0345"
      },
      "execution_count": null,
      "outputs": [
        {
          "output_type": "stream",
          "name": "stdout",
          "text": [
            "yes    14660\n",
            "no      8899\n",
            "dtype: int64\n",
            "yes    686\n",
            "no     314\n",
            "dtype: int64\n"
          ]
        }
      ]
    },
    {
      "cell_type": "markdown",
      "source": [
        "In this particular dataset the trainging data and validation data are already seperated. This is an important part of training the model. The training data is how we will teach the model to make predictions on new data. The validation data is how we will test how well our model can do with sentences it has never seen. It will try to guess the right answers. How closely it can guess the answers for the test and validation data will determine how well the model is doing.\n",
        "\n",
        "I am converting the dataset into a panda's dataset framework. I am more familiar with using the panda framwork as a tool for datasets. Analyzing the data will be easier once it is in a panda's format."
      ],
      "metadata": {
        "id": "vJxyuQwnAONP"
      }
    },
    {
      "cell_type": "code",
      "source": [
        "#This will convert the the hugging face dataset framework into a panda's dataset framework\n",
        "train = pd.DataFrame(dataset['train'])\n",
        "val = pd.DataFrame(dataset['test'])\n",
        "\n",
        "# This will tell us how many rows and columns the data set has in the training and testing data\n",
        "#printing it here also confirms that the conversion worked\n",
        "print(f\"The training dataset has {train.shape[0]} rows and {train.shape[1]} columns\")\n",
        "print(f\"The validation dataset has {val.shape[0]} rows and {val.shape[1]} columns\")"
      ],
      "metadata": {
        "colab": {
          "base_uri": "https://localhost:8080/"
        },
        "id": "O-mQn3Np_DfI",
        "outputId": "4d2ec2f4-389f-422e-8910-23bc7994e771"
      },
      "execution_count": null,
      "outputs": [
        {
          "output_type": "stream",
          "name": "stdout",
          "text": [
            "The training dataset has 23559 rows and 4 columns\n",
            "The validation dataset has 1000 rows and 4 columns\n"
          ]
        }
      ]
    },
    {
      "cell_type": "code",
      "source": [
        "# This will let us look at a few entries starting from the top\n",
        "train.head(10) #Changing this number will allows us to print out as many as we would like to see\n",
        "\n",
        "\n",
        "\n"
      ],
      "metadata": {
        "colab": {
          "base_uri": "https://localhost:8080/",
          "height": 363
        },
        "id": "tl6ysYk970Lo",
        "outputId": "fc51162c-6063-4b01-e786-abec0eb41b7a"
      },
      "execution_count": null,
      "outputs": [
        {
          "output_type": "execute_result",
          "data": {
            "text/plain": [
              "   id                                           sentence motion  \\\n",
              "0   0       A little boy holding a yellow ball walks by.    yes   \n",
              "1   1        The camel walks as the woman leans forward.    yes   \n",
              "2   2   The man mixes up various ingredients and begi...    yes   \n",
              "3   3   He continues laying tiles on the floor while ...    yes   \n",
              "4   4  Then one man stands in a field holding a woode...    yes   \n",
              "5   5               He then bends down and grabs a ball.    yes   \n",
              "6   6  After,the ball is placed on the ground and he ...    yes   \n",
              "7   7  After,everyone is pictured lying down on the g...    yes   \n",
              "8   8   She lays out wrapping paper, showing how to w...    yes   \n",
              "9   9     She wraps it around the toy, then tapes it up.    yes   \n",
              "\n",
              "                                     motion_entities  \n",
              "0  [{'entity': 'little boy', 'start_index': 2}, {...  \n",
              "1  [{'entity': 'camel', 'start_index': 4}, {'enti...  \n",
              "2  [{'entity': 'man', 'start_index': 4}, {'entity...  \n",
              "3  [{'entity': 'He', 'start_index': 0}, {'entity'...  \n",
              "4  [{'entity': 'man', 'start_index': 9}, {'entity...  \n",
              "5  [{'entity': 'He', 'start_index': 0}, {'entity'...  \n",
              "6  [{'entity': 'he', 'start_index': 43}, {'entity...  \n",
              "7  [{'entity': 'person', 'start_index': 80}, {'en...  \n",
              "8  [{'entity': 'She', 'start_index': 0}, {'entity...  \n",
              "9  [{'entity': 'She', 'start_index': 0}, {'entity...  "
            ],
            "text/html": [
              "\n",
              "  <div id=\"df-f1d3ffaf-778b-4514-9f25-d9725bf9cd13\">\n",
              "    <div class=\"colab-df-container\">\n",
              "      <div>\n",
              "<style scoped>\n",
              "    .dataframe tbody tr th:only-of-type {\n",
              "        vertical-align: middle;\n",
              "    }\n",
              "\n",
              "    .dataframe tbody tr th {\n",
              "        vertical-align: top;\n",
              "    }\n",
              "\n",
              "    .dataframe thead th {\n",
              "        text-align: right;\n",
              "    }\n",
              "</style>\n",
              "<table border=\"1\" class=\"dataframe\">\n",
              "  <thead>\n",
              "    <tr style=\"text-align: right;\">\n",
              "      <th></th>\n",
              "      <th>id</th>\n",
              "      <th>sentence</th>\n",
              "      <th>motion</th>\n",
              "      <th>motion_entities</th>\n",
              "    </tr>\n",
              "  </thead>\n",
              "  <tbody>\n",
              "    <tr>\n",
              "      <th>0</th>\n",
              "      <td>0</td>\n",
              "      <td>A little boy holding a yellow ball walks by.</td>\n",
              "      <td>yes</td>\n",
              "      <td>[{'entity': 'little boy', 'start_index': 2}, {...</td>\n",
              "    </tr>\n",
              "    <tr>\n",
              "      <th>1</th>\n",
              "      <td>1</td>\n",
              "      <td>The camel walks as the woman leans forward.</td>\n",
              "      <td>yes</td>\n",
              "      <td>[{'entity': 'camel', 'start_index': 4}, {'enti...</td>\n",
              "    </tr>\n",
              "    <tr>\n",
              "      <th>2</th>\n",
              "      <td>2</td>\n",
              "      <td>The man mixes up various ingredients and begi...</td>\n",
              "      <td>yes</td>\n",
              "      <td>[{'entity': 'man', 'start_index': 4}, {'entity...</td>\n",
              "    </tr>\n",
              "    <tr>\n",
              "      <th>3</th>\n",
              "      <td>3</td>\n",
              "      <td>He continues laying tiles on the floor while ...</td>\n",
              "      <td>yes</td>\n",
              "      <td>[{'entity': 'He', 'start_index': 0}, {'entity'...</td>\n",
              "    </tr>\n",
              "    <tr>\n",
              "      <th>4</th>\n",
              "      <td>4</td>\n",
              "      <td>Then one man stands in a field holding a woode...</td>\n",
              "      <td>yes</td>\n",
              "      <td>[{'entity': 'man', 'start_index': 9}, {'entity...</td>\n",
              "    </tr>\n",
              "    <tr>\n",
              "      <th>5</th>\n",
              "      <td>5</td>\n",
              "      <td>He then bends down and grabs a ball.</td>\n",
              "      <td>yes</td>\n",
              "      <td>[{'entity': 'He', 'start_index': 0}, {'entity'...</td>\n",
              "    </tr>\n",
              "    <tr>\n",
              "      <th>6</th>\n",
              "      <td>6</td>\n",
              "      <td>After,the ball is placed on the ground and he ...</td>\n",
              "      <td>yes</td>\n",
              "      <td>[{'entity': 'he', 'start_index': 43}, {'entity...</td>\n",
              "    </tr>\n",
              "    <tr>\n",
              "      <th>7</th>\n",
              "      <td>7</td>\n",
              "      <td>After,everyone is pictured lying down on the g...</td>\n",
              "      <td>yes</td>\n",
              "      <td>[{'entity': 'person', 'start_index': 80}, {'en...</td>\n",
              "    </tr>\n",
              "    <tr>\n",
              "      <th>8</th>\n",
              "      <td>8</td>\n",
              "      <td>She lays out wrapping paper, showing how to w...</td>\n",
              "      <td>yes</td>\n",
              "      <td>[{'entity': 'She', 'start_index': 0}, {'entity...</td>\n",
              "    </tr>\n",
              "    <tr>\n",
              "      <th>9</th>\n",
              "      <td>9</td>\n",
              "      <td>She wraps it around the toy, then tapes it up.</td>\n",
              "      <td>yes</td>\n",
              "      <td>[{'entity': 'She', 'start_index': 0}, {'entity...</td>\n",
              "    </tr>\n",
              "  </tbody>\n",
              "</table>\n",
              "</div>\n",
              "      <button class=\"colab-df-convert\" onclick=\"convertToInteractive('df-f1d3ffaf-778b-4514-9f25-d9725bf9cd13')\"\n",
              "              title=\"Convert this dataframe to an interactive table.\"\n",
              "              style=\"display:none;\">\n",
              "        \n",
              "  <svg xmlns=\"http://www.w3.org/2000/svg\" height=\"24px\"viewBox=\"0 0 24 24\"\n",
              "       width=\"24px\">\n",
              "    <path d=\"M0 0h24v24H0V0z\" fill=\"none\"/>\n",
              "    <path d=\"M18.56 5.44l.94 2.06.94-2.06 2.06-.94-2.06-.94-.94-2.06-.94 2.06-2.06.94zm-11 1L8.5 8.5l.94-2.06 2.06-.94-2.06-.94L8.5 2.5l-.94 2.06-2.06.94zm10 10l.94 2.06.94-2.06 2.06-.94-2.06-.94-.94-2.06-.94 2.06-2.06.94z\"/><path d=\"M17.41 7.96l-1.37-1.37c-.4-.4-.92-.59-1.43-.59-.52 0-1.04.2-1.43.59L10.3 9.45l-7.72 7.72c-.78.78-.78 2.05 0 2.83L4 21.41c.39.39.9.59 1.41.59.51 0 1.02-.2 1.41-.59l7.78-7.78 2.81-2.81c.8-.78.8-2.07 0-2.86zM5.41 20L4 18.59l7.72-7.72 1.47 1.35L5.41 20z\"/>\n",
              "  </svg>\n",
              "      </button>\n",
              "      \n",
              "  <style>\n",
              "    .colab-df-container {\n",
              "      display:flex;\n",
              "      flex-wrap:wrap;\n",
              "      gap: 12px;\n",
              "    }\n",
              "\n",
              "    .colab-df-convert {\n",
              "      background-color: #E8F0FE;\n",
              "      border: none;\n",
              "      border-radius: 50%;\n",
              "      cursor: pointer;\n",
              "      display: none;\n",
              "      fill: #1967D2;\n",
              "      height: 32px;\n",
              "      padding: 0 0 0 0;\n",
              "      width: 32px;\n",
              "    }\n",
              "\n",
              "    .colab-df-convert:hover {\n",
              "      background-color: #E2EBFA;\n",
              "      box-shadow: 0px 1px 2px rgba(60, 64, 67, 0.3), 0px 1px 3px 1px rgba(60, 64, 67, 0.15);\n",
              "      fill: #174EA6;\n",
              "    }\n",
              "\n",
              "    [theme=dark] .colab-df-convert {\n",
              "      background-color: #3B4455;\n",
              "      fill: #D2E3FC;\n",
              "    }\n",
              "\n",
              "    [theme=dark] .colab-df-convert:hover {\n",
              "      background-color: #434B5C;\n",
              "      box-shadow: 0px 1px 3px 1px rgba(0, 0, 0, 0.15);\n",
              "      filter: drop-shadow(0px 1px 2px rgba(0, 0, 0, 0.3));\n",
              "      fill: #FFFFFF;\n",
              "    }\n",
              "  </style>\n",
              "\n",
              "      <script>\n",
              "        const buttonEl =\n",
              "          document.querySelector('#df-f1d3ffaf-778b-4514-9f25-d9725bf9cd13 button.colab-df-convert');\n",
              "        buttonEl.style.display =\n",
              "          google.colab.kernel.accessAllowed ? 'block' : 'none';\n",
              "\n",
              "        async function convertToInteractive(key) {\n",
              "          const element = document.querySelector('#df-f1d3ffaf-778b-4514-9f25-d9725bf9cd13');\n",
              "          const dataTable =\n",
              "            await google.colab.kernel.invokeFunction('convertToInteractive',\n",
              "                                                     [key], {});\n",
              "          if (!dataTable) return;\n",
              "\n",
              "          const docLinkHtml = 'Like what you see? Visit the ' +\n",
              "            '<a target=\"_blank\" href=https://colab.research.google.com/notebooks/data_table.ipynb>data table notebook</a>'\n",
              "            + ' to learn more about interactive tables.';\n",
              "          element.innerHTML = '';\n",
              "          dataTable['output_type'] = 'display_data';\n",
              "          await google.colab.output.renderOutput(dataTable, element);\n",
              "          const docLink = document.createElement('div');\n",
              "          docLink.innerHTML = docLinkHtml;\n",
              "          element.appendChild(docLink);\n",
              "        }\n",
              "      </script>\n",
              "    </div>\n",
              "  </div>\n",
              "  "
            ]
          },
          "metadata": {},
          "execution_count": 6
        }
      ]
    },
    {
      "cell_type": "markdown",
      "source": [
        "The column id is just an index number for each entry. The sentence is the piece of data the model will be looking at. The column labled 'motion' holds the answer to wheater or not the model has physical movement \"Motion_entities\" is the column that can tell the model who/what moved. Though, we wont be using that column. Each row is an unique piece of data that we will put into the model to teach it how to recognize motion words."
      ],
      "metadata": {
        "id": "226VhWmrDwd8"
      }
    },
    {
      "cell_type": "code",
      "source": [
        "train.describe() # This will get the statistical information. \n",
        "# Unfortuneantly it is trying to get inportant data from the wrong column.\n",
        "# id is just an index and should be ignored\n",
        "# the things it is trying to express would be more usefull for different datasets.\n",
        "# The information displayed is useful for understaning numerical values. "
      ],
      "metadata": {
        "colab": {
          "base_uri": "https://localhost:8080/",
          "height": 300
        },
        "id": "Dgnhw7FADw-R",
        "outputId": "b6609b85-8c3f-4679-85c4-de2fac3415f0"
      },
      "execution_count": null,
      "outputs": [
        {
          "output_type": "execute_result",
          "data": {
            "text/plain": [
              "                 id\n",
              "count  23559.000000\n",
              "mean   11779.000000\n",
              "std     6801.041832\n",
              "min        0.000000\n",
              "25%     5889.500000\n",
              "50%    11779.000000\n",
              "75%    17668.500000\n",
              "max    23558.000000"
            ],
            "text/html": [
              "\n",
              "  <div id=\"df-e968dd93-6c71-4b5d-b2a9-870ef28c561f\">\n",
              "    <div class=\"colab-df-container\">\n",
              "      <div>\n",
              "<style scoped>\n",
              "    .dataframe tbody tr th:only-of-type {\n",
              "        vertical-align: middle;\n",
              "    }\n",
              "\n",
              "    .dataframe tbody tr th {\n",
              "        vertical-align: top;\n",
              "    }\n",
              "\n",
              "    .dataframe thead th {\n",
              "        text-align: right;\n",
              "    }\n",
              "</style>\n",
              "<table border=\"1\" class=\"dataframe\">\n",
              "  <thead>\n",
              "    <tr style=\"text-align: right;\">\n",
              "      <th></th>\n",
              "      <th>id</th>\n",
              "    </tr>\n",
              "  </thead>\n",
              "  <tbody>\n",
              "    <tr>\n",
              "      <th>count</th>\n",
              "      <td>23559.000000</td>\n",
              "    </tr>\n",
              "    <tr>\n",
              "      <th>mean</th>\n",
              "      <td>11779.000000</td>\n",
              "    </tr>\n",
              "    <tr>\n",
              "      <th>std</th>\n",
              "      <td>6801.041832</td>\n",
              "    </tr>\n",
              "    <tr>\n",
              "      <th>min</th>\n",
              "      <td>0.000000</td>\n",
              "    </tr>\n",
              "    <tr>\n",
              "      <th>25%</th>\n",
              "      <td>5889.500000</td>\n",
              "    </tr>\n",
              "    <tr>\n",
              "      <th>50%</th>\n",
              "      <td>11779.000000</td>\n",
              "    </tr>\n",
              "    <tr>\n",
              "      <th>75%</th>\n",
              "      <td>17668.500000</td>\n",
              "    </tr>\n",
              "    <tr>\n",
              "      <th>max</th>\n",
              "      <td>23558.000000</td>\n",
              "    </tr>\n",
              "  </tbody>\n",
              "</table>\n",
              "</div>\n",
              "      <button class=\"colab-df-convert\" onclick=\"convertToInteractive('df-e968dd93-6c71-4b5d-b2a9-870ef28c561f')\"\n",
              "              title=\"Convert this dataframe to an interactive table.\"\n",
              "              style=\"display:none;\">\n",
              "        \n",
              "  <svg xmlns=\"http://www.w3.org/2000/svg\" height=\"24px\"viewBox=\"0 0 24 24\"\n",
              "       width=\"24px\">\n",
              "    <path d=\"M0 0h24v24H0V0z\" fill=\"none\"/>\n",
              "    <path d=\"M18.56 5.44l.94 2.06.94-2.06 2.06-.94-2.06-.94-.94-2.06-.94 2.06-2.06.94zm-11 1L8.5 8.5l.94-2.06 2.06-.94-2.06-.94L8.5 2.5l-.94 2.06-2.06.94zm10 10l.94 2.06.94-2.06 2.06-.94-2.06-.94-.94-2.06-.94 2.06-2.06.94z\"/><path d=\"M17.41 7.96l-1.37-1.37c-.4-.4-.92-.59-1.43-.59-.52 0-1.04.2-1.43.59L10.3 9.45l-7.72 7.72c-.78.78-.78 2.05 0 2.83L4 21.41c.39.39.9.59 1.41.59.51 0 1.02-.2 1.41-.59l7.78-7.78 2.81-2.81c.8-.78.8-2.07 0-2.86zM5.41 20L4 18.59l7.72-7.72 1.47 1.35L5.41 20z\"/>\n",
              "  </svg>\n",
              "      </button>\n",
              "      \n",
              "  <style>\n",
              "    .colab-df-container {\n",
              "      display:flex;\n",
              "      flex-wrap:wrap;\n",
              "      gap: 12px;\n",
              "    }\n",
              "\n",
              "    .colab-df-convert {\n",
              "      background-color: #E8F0FE;\n",
              "      border: none;\n",
              "      border-radius: 50%;\n",
              "      cursor: pointer;\n",
              "      display: none;\n",
              "      fill: #1967D2;\n",
              "      height: 32px;\n",
              "      padding: 0 0 0 0;\n",
              "      width: 32px;\n",
              "    }\n",
              "\n",
              "    .colab-df-convert:hover {\n",
              "      background-color: #E2EBFA;\n",
              "      box-shadow: 0px 1px 2px rgba(60, 64, 67, 0.3), 0px 1px 3px 1px rgba(60, 64, 67, 0.15);\n",
              "      fill: #174EA6;\n",
              "    }\n",
              "\n",
              "    [theme=dark] .colab-df-convert {\n",
              "      background-color: #3B4455;\n",
              "      fill: #D2E3FC;\n",
              "    }\n",
              "\n",
              "    [theme=dark] .colab-df-convert:hover {\n",
              "      background-color: #434B5C;\n",
              "      box-shadow: 0px 1px 3px 1px rgba(0, 0, 0, 0.15);\n",
              "      filter: drop-shadow(0px 1px 2px rgba(0, 0, 0, 0.3));\n",
              "      fill: #FFFFFF;\n",
              "    }\n",
              "  </style>\n",
              "\n",
              "      <script>\n",
              "        const buttonEl =\n",
              "          document.querySelector('#df-e968dd93-6c71-4b5d-b2a9-870ef28c561f button.colab-df-convert');\n",
              "        buttonEl.style.display =\n",
              "          google.colab.kernel.accessAllowed ? 'block' : 'none';\n",
              "\n",
              "        async function convertToInteractive(key) {\n",
              "          const element = document.querySelector('#df-e968dd93-6c71-4b5d-b2a9-870ef28c561f');\n",
              "          const dataTable =\n",
              "            await google.colab.kernel.invokeFunction('convertToInteractive',\n",
              "                                                     [key], {});\n",
              "          if (!dataTable) return;\n",
              "\n",
              "          const docLinkHtml = 'Like what you see? Visit the ' +\n",
              "            '<a target=\"_blank\" href=https://colab.research.google.com/notebooks/data_table.ipynb>data table notebook</a>'\n",
              "            + ' to learn more about interactive tables.';\n",
              "          element.innerHTML = '';\n",
              "          dataTable['output_type'] = 'display_data';\n",
              "          await google.colab.output.renderOutput(dataTable, element);\n",
              "          const docLink = document.createElement('div');\n",
              "          docLink.innerHTML = docLinkHtml;\n",
              "          element.appendChild(docLink);\n",
              "        }\n",
              "      </script>\n",
              "    </div>\n",
              "  </div>\n",
              "  "
            ]
          },
          "metadata": {},
          "execution_count": 7
        }
      ]
    },
    {
      "cell_type": "code",
      "source": [
        "#I am going to describe just one column at a time \n",
        "train[\"motion\"].describe()\n",
        "#the count is how many there are (should be the same as the # of rows)\n",
        "#unique is how many unique types of data there is in that column\n",
        "#for motion 2 is the ideal because there should only be \"yes\" or \"no\"\n",
        "#So while there is many of them, there are only two answers that can be in that column\n",
        "#Top is what is the most common in that column\n",
        "#Frequesncy is how many times the top answer appears\n",
        "#Name is just the name of the column\n",
        "#dType is for the programmer's sake. It tells us how the data is catogorized by machines. "
      ],
      "metadata": {
        "colab": {
          "base_uri": "https://localhost:8080/"
        },
        "id": "BiHECo2VF9Bk",
        "outputId": "d416634d-0e94-413f-a2fc-3ae54ef183dd"
      },
      "execution_count": null,
      "outputs": [
        {
          "output_type": "execute_result",
          "data": {
            "text/plain": [
              "count     23559\n",
              "unique        2\n",
              "top         yes\n",
              "freq      14660\n",
              "Name: motion, dtype: object"
            ]
          },
          "metadata": {},
          "execution_count": 8
        }
      ]
    },
    {
      "cell_type": "code",
      "source": [
        "#We have two datasets, so it is good to analyze both\n",
        "val[\"motion\"].describe()"
      ],
      "metadata": {
        "colab": {
          "base_uri": "https://localhost:8080/"
        },
        "id": "_Kl8z41XJPyX",
        "outputId": "5b1c81c9-2a0b-4f87-d299-02ca397425c2"
      },
      "execution_count": null,
      "outputs": [
        {
          "output_type": "execute_result",
          "data": {
            "text/plain": [
              "count     1000\n",
              "unique       2\n",
              "top        yes\n",
              "freq       686\n",
              "Name: motion, dtype: object"
            ]
          },
          "metadata": {},
          "execution_count": 9
        }
      ]
    },
    {
      "cell_type": "code",
      "source": [
        "train[\"sentence\"].describe()"
      ],
      "metadata": {
        "colab": {
          "base_uri": "https://localhost:8080/"
        },
        "id": "woIS5BBrJZ7M",
        "outputId": "a53b05fb-7f25-45ce-cf5b-c32c0c976a3f"
      },
      "execution_count": null,
      "outputs": [
        {
          "output_type": "execute_result",
          "data": {
            "text/plain": [
              "count                                             23559\n",
              "unique                                            23559\n",
              "top        A little boy holding a yellow ball walks by.\n",
              "freq                                                  1\n",
              "Name: sentence, dtype: object"
            ]
          },
          "metadata": {},
          "execution_count": 10
        }
      ]
    },
    {
      "cell_type": "code",
      "source": [
        "val[\"sentence\"].describe()"
      ],
      "metadata": {
        "colab": {
          "base_uri": "https://localhost:8080/"
        },
        "id": "6z5k3Y3jKujJ",
        "outputId": "f9fbe1a1-4938-4d1c-beb1-478a63d8f9b9"
      },
      "execution_count": null,
      "outputs": [
        {
          "output_type": "execute_result",
          "data": {
            "text/plain": [
              "count                                                  1000\n",
              "unique                                                 1000\n",
              "top       \"We will go up stairs to my room,\" said his un...\n",
              "freq                                                      1\n",
              "Name: sentence, dtype: object"
            ]
          },
          "metadata": {},
          "execution_count": 11
        }
      ]
    },
    {
      "cell_type": "markdown",
      "source": [
        "Much of the information should be the same as the \"motion\" column. The two import things to look and campare is the uniqueness and the frequency. Everything in the sentence is unique. This is what we want. Also, the frequesncy is one because every entry is unique, so everything only appears once. "
      ],
      "metadata": {
        "id": "ySzPtlltJqnq"
      }
    },
    {
      "cell_type": "markdown",
      "source": [
        "We don't have much useful information for the sentances just yet. So, now I will alter the sentances in a few ways. This will let me look at the data in a different way. And even better, it will also get the data ready to feed to the model. \n",
        "\n",
        "First I am going to do a process called tokenization. This will take the sentence and split it into individual words. Making it into nice bite size pieces. Humans can do this just by reading the sentence. But machines will see each sentence as one whole. I will place a list of these words into a new column. I will call it \"tokens_raw\".\n",
        "\n",
        "Here is a link that I used to select what tokenizer I am going to use. It provides more information on Tokenization as well.\n",
        "https://realpython.com/nltk-nlp-python/#tokenizing\n",
        "\n",
        "This is a coding example of a word tokenizer I fallowed https://www.geeksforgeeks.org/tokenize-text-using-nltk-python/"
      ],
      "metadata": {
        "id": "T4OePsmSNlmP"
      }
    },
    {
      "cell_type": "code",
      "source": [
        "from nltk.tokenize import word_tokenize #This is the specific tokenizer I am going to use. \n",
        "train['tokens_raw'] = train['sentence'].apply(lambda x: word_tokenize(x.lower()))\n",
        "val['tokens_raw'] = train['sentence'].apply(lambda x: word_tokenize(x.lower()))\n",
        "train.head()\n",
        "#The new columns are added to the right side of the table.\n",
        "#Lists in Python seperate items by cammas"
      ],
      "metadata": {
        "colab": {
          "base_uri": "https://localhost:8080/",
          "height": 250
        },
        "id": "YbfskKM8JlWR",
        "outputId": "9a54b5fa-d240-410c-8e25-ed46685334d6"
      },
      "execution_count": null,
      "outputs": [
        {
          "output_type": "execute_result",
          "data": {
            "text/plain": [
              "   id                                           sentence motion  \\\n",
              "0   0       A little boy holding a yellow ball walks by.    yes   \n",
              "1   1        The camel walks as the woman leans forward.    yes   \n",
              "2   2   The man mixes up various ingredients and begi...    yes   \n",
              "3   3   He continues laying tiles on the floor while ...    yes   \n",
              "4   4  Then one man stands in a field holding a woode...    yes   \n",
              "\n",
              "                                     motion_entities  \\\n",
              "0  [{'entity': 'little boy', 'start_index': 2}, {...   \n",
              "1  [{'entity': 'camel', 'start_index': 4}, {'enti...   \n",
              "2  [{'entity': 'man', 'start_index': 4}, {'entity...   \n",
              "3  [{'entity': 'He', 'start_index': 0}, {'entity'...   \n",
              "4  [{'entity': 'man', 'start_index': 9}, {'entity...   \n",
              "\n",
              "                                          tokens_raw  \n",
              "0  [a, little, boy, holding, a, yellow, ball, wal...  \n",
              "1  [the, camel, walks, as, the, woman, leans, for...  \n",
              "2  [the, man, mixes, up, various, ingredients, an...  \n",
              "3  [he, continues, laying, tiles, on, the, floor,...  \n",
              "4  [then, one, man, stands, in, a, field, holding...  "
            ],
            "text/html": [
              "\n",
              "  <div id=\"df-b55765cf-d966-4dc6-83b5-24184833fde3\">\n",
              "    <div class=\"colab-df-container\">\n",
              "      <div>\n",
              "<style scoped>\n",
              "    .dataframe tbody tr th:only-of-type {\n",
              "        vertical-align: middle;\n",
              "    }\n",
              "\n",
              "    .dataframe tbody tr th {\n",
              "        vertical-align: top;\n",
              "    }\n",
              "\n",
              "    .dataframe thead th {\n",
              "        text-align: right;\n",
              "    }\n",
              "</style>\n",
              "<table border=\"1\" class=\"dataframe\">\n",
              "  <thead>\n",
              "    <tr style=\"text-align: right;\">\n",
              "      <th></th>\n",
              "      <th>id</th>\n",
              "      <th>sentence</th>\n",
              "      <th>motion</th>\n",
              "      <th>motion_entities</th>\n",
              "      <th>tokens_raw</th>\n",
              "    </tr>\n",
              "  </thead>\n",
              "  <tbody>\n",
              "    <tr>\n",
              "      <th>0</th>\n",
              "      <td>0</td>\n",
              "      <td>A little boy holding a yellow ball walks by.</td>\n",
              "      <td>yes</td>\n",
              "      <td>[{'entity': 'little boy', 'start_index': 2}, {...</td>\n",
              "      <td>[a, little, boy, holding, a, yellow, ball, wal...</td>\n",
              "    </tr>\n",
              "    <tr>\n",
              "      <th>1</th>\n",
              "      <td>1</td>\n",
              "      <td>The camel walks as the woman leans forward.</td>\n",
              "      <td>yes</td>\n",
              "      <td>[{'entity': 'camel', 'start_index': 4}, {'enti...</td>\n",
              "      <td>[the, camel, walks, as, the, woman, leans, for...</td>\n",
              "    </tr>\n",
              "    <tr>\n",
              "      <th>2</th>\n",
              "      <td>2</td>\n",
              "      <td>The man mixes up various ingredients and begi...</td>\n",
              "      <td>yes</td>\n",
              "      <td>[{'entity': 'man', 'start_index': 4}, {'entity...</td>\n",
              "      <td>[the, man, mixes, up, various, ingredients, an...</td>\n",
              "    </tr>\n",
              "    <tr>\n",
              "      <th>3</th>\n",
              "      <td>3</td>\n",
              "      <td>He continues laying tiles on the floor while ...</td>\n",
              "      <td>yes</td>\n",
              "      <td>[{'entity': 'He', 'start_index': 0}, {'entity'...</td>\n",
              "      <td>[he, continues, laying, tiles, on, the, floor,...</td>\n",
              "    </tr>\n",
              "    <tr>\n",
              "      <th>4</th>\n",
              "      <td>4</td>\n",
              "      <td>Then one man stands in a field holding a woode...</td>\n",
              "      <td>yes</td>\n",
              "      <td>[{'entity': 'man', 'start_index': 9}, {'entity...</td>\n",
              "      <td>[then, one, man, stands, in, a, field, holding...</td>\n",
              "    </tr>\n",
              "  </tbody>\n",
              "</table>\n",
              "</div>\n",
              "      <button class=\"colab-df-convert\" onclick=\"convertToInteractive('df-b55765cf-d966-4dc6-83b5-24184833fde3')\"\n",
              "              title=\"Convert this dataframe to an interactive table.\"\n",
              "              style=\"display:none;\">\n",
              "        \n",
              "  <svg xmlns=\"http://www.w3.org/2000/svg\" height=\"24px\"viewBox=\"0 0 24 24\"\n",
              "       width=\"24px\">\n",
              "    <path d=\"M0 0h24v24H0V0z\" fill=\"none\"/>\n",
              "    <path d=\"M18.56 5.44l.94 2.06.94-2.06 2.06-.94-2.06-.94-.94-2.06-.94 2.06-2.06.94zm-11 1L8.5 8.5l.94-2.06 2.06-.94-2.06-.94L8.5 2.5l-.94 2.06-2.06.94zm10 10l.94 2.06.94-2.06 2.06-.94-2.06-.94-.94-2.06-.94 2.06-2.06.94z\"/><path d=\"M17.41 7.96l-1.37-1.37c-.4-.4-.92-.59-1.43-.59-.52 0-1.04.2-1.43.59L10.3 9.45l-7.72 7.72c-.78.78-.78 2.05 0 2.83L4 21.41c.39.39.9.59 1.41.59.51 0 1.02-.2 1.41-.59l7.78-7.78 2.81-2.81c.8-.78.8-2.07 0-2.86zM5.41 20L4 18.59l7.72-7.72 1.47 1.35L5.41 20z\"/>\n",
              "  </svg>\n",
              "      </button>\n",
              "      \n",
              "  <style>\n",
              "    .colab-df-container {\n",
              "      display:flex;\n",
              "      flex-wrap:wrap;\n",
              "      gap: 12px;\n",
              "    }\n",
              "\n",
              "    .colab-df-convert {\n",
              "      background-color: #E8F0FE;\n",
              "      border: none;\n",
              "      border-radius: 50%;\n",
              "      cursor: pointer;\n",
              "      display: none;\n",
              "      fill: #1967D2;\n",
              "      height: 32px;\n",
              "      padding: 0 0 0 0;\n",
              "      width: 32px;\n",
              "    }\n",
              "\n",
              "    .colab-df-convert:hover {\n",
              "      background-color: #E2EBFA;\n",
              "      box-shadow: 0px 1px 2px rgba(60, 64, 67, 0.3), 0px 1px 3px 1px rgba(60, 64, 67, 0.15);\n",
              "      fill: #174EA6;\n",
              "    }\n",
              "\n",
              "    [theme=dark] .colab-df-convert {\n",
              "      background-color: #3B4455;\n",
              "      fill: #D2E3FC;\n",
              "    }\n",
              "\n",
              "    [theme=dark] .colab-df-convert:hover {\n",
              "      background-color: #434B5C;\n",
              "      box-shadow: 0px 1px 3px 1px rgba(0, 0, 0, 0.15);\n",
              "      filter: drop-shadow(0px 1px 2px rgba(0, 0, 0, 0.3));\n",
              "      fill: #FFFFFF;\n",
              "    }\n",
              "  </style>\n",
              "\n",
              "      <script>\n",
              "        const buttonEl =\n",
              "          document.querySelector('#df-b55765cf-d966-4dc6-83b5-24184833fde3 button.colab-df-convert');\n",
              "        buttonEl.style.display =\n",
              "          google.colab.kernel.accessAllowed ? 'block' : 'none';\n",
              "\n",
              "        async function convertToInteractive(key) {\n",
              "          const element = document.querySelector('#df-b55765cf-d966-4dc6-83b5-24184833fde3');\n",
              "          const dataTable =\n",
              "            await google.colab.kernel.invokeFunction('convertToInteractive',\n",
              "                                                     [key], {});\n",
              "          if (!dataTable) return;\n",
              "\n",
              "          const docLinkHtml = 'Like what you see? Visit the ' +\n",
              "            '<a target=\"_blank\" href=https://colab.research.google.com/notebooks/data_table.ipynb>data table notebook</a>'\n",
              "            + ' to learn more about interactive tables.';\n",
              "          element.innerHTML = '';\n",
              "          dataTable['output_type'] = 'display_data';\n",
              "          await google.colab.output.renderOutput(dataTable, element);\n",
              "          const docLink = document.createElement('div');\n",
              "          docLink.innerHTML = docLinkHtml;\n",
              "          element.appendChild(docLink);\n",
              "        }\n",
              "      </script>\n",
              "    </div>\n",
              "  </div>\n",
              "  "
            ]
          },
          "metadata": {},
          "execution_count": 12
        }
      ]
    },
    {
      "cell_type": "markdown",
      "source": [
        "To get a bit more infomation I am going to add another column, \"word_count\" that will count the number of words in each sentence."
      ],
      "metadata": {
        "id": "73PbxHOkN659"
      }
    },
    {
      "cell_type": "code",
      "source": [
        "train['word_count'] = train['tokens_raw'].apply(lambda x: len(x))\n",
        "train.head()"
      ],
      "metadata": {
        "colab": {
          "base_uri": "https://localhost:8080/",
          "height": 337
        },
        "id": "um1-5chuOOsT",
        "outputId": "cb59721c-f172-4edd-974b-0781824d9bca"
      },
      "execution_count": null,
      "outputs": [
        {
          "output_type": "execute_result",
          "data": {
            "text/plain": [
              "   id                                           sentence motion  \\\n",
              "0   0       A little boy holding a yellow ball walks by.    yes   \n",
              "1   1        The camel walks as the woman leans forward.    yes   \n",
              "2   2   The man mixes up various ingredients and begi...    yes   \n",
              "3   3   He continues laying tiles on the floor while ...    yes   \n",
              "4   4  Then one man stands in a field holding a woode...    yes   \n",
              "\n",
              "                                     motion_entities  \\\n",
              "0  [{'entity': 'little boy', 'start_index': 2}, {...   \n",
              "1  [{'entity': 'camel', 'start_index': 4}, {'enti...   \n",
              "2  [{'entity': 'man', 'start_index': 4}, {'entity...   \n",
              "3  [{'entity': 'He', 'start_index': 0}, {'entity'...   \n",
              "4  [{'entity': 'man', 'start_index': 9}, {'entity...   \n",
              "\n",
              "                                          tokens_raw  word_count  \n",
              "0  [a, little, boy, holding, a, yellow, ball, wal...          10  \n",
              "1  [the, camel, walks, as, the, woman, leans, for...           9  \n",
              "2  [the, man, mixes, up, various, ingredients, an...          14  \n",
              "3  [he, continues, laying, tiles, on, the, floor,...          16  \n",
              "4  [then, one, man, stands, in, a, field, holding...          16  "
            ],
            "text/html": [
              "\n",
              "  <div id=\"df-de2e66b1-b9cc-4b7e-8271-398ea924c559\">\n",
              "    <div class=\"colab-df-container\">\n",
              "      <div>\n",
              "<style scoped>\n",
              "    .dataframe tbody tr th:only-of-type {\n",
              "        vertical-align: middle;\n",
              "    }\n",
              "\n",
              "    .dataframe tbody tr th {\n",
              "        vertical-align: top;\n",
              "    }\n",
              "\n",
              "    .dataframe thead th {\n",
              "        text-align: right;\n",
              "    }\n",
              "</style>\n",
              "<table border=\"1\" class=\"dataframe\">\n",
              "  <thead>\n",
              "    <tr style=\"text-align: right;\">\n",
              "      <th></th>\n",
              "      <th>id</th>\n",
              "      <th>sentence</th>\n",
              "      <th>motion</th>\n",
              "      <th>motion_entities</th>\n",
              "      <th>tokens_raw</th>\n",
              "      <th>word_count</th>\n",
              "    </tr>\n",
              "  </thead>\n",
              "  <tbody>\n",
              "    <tr>\n",
              "      <th>0</th>\n",
              "      <td>0</td>\n",
              "      <td>A little boy holding a yellow ball walks by.</td>\n",
              "      <td>yes</td>\n",
              "      <td>[{'entity': 'little boy', 'start_index': 2}, {...</td>\n",
              "      <td>[a, little, boy, holding, a, yellow, ball, wal...</td>\n",
              "      <td>10</td>\n",
              "    </tr>\n",
              "    <tr>\n",
              "      <th>1</th>\n",
              "      <td>1</td>\n",
              "      <td>The camel walks as the woman leans forward.</td>\n",
              "      <td>yes</td>\n",
              "      <td>[{'entity': 'camel', 'start_index': 4}, {'enti...</td>\n",
              "      <td>[the, camel, walks, as, the, woman, leans, for...</td>\n",
              "      <td>9</td>\n",
              "    </tr>\n",
              "    <tr>\n",
              "      <th>2</th>\n",
              "      <td>2</td>\n",
              "      <td>The man mixes up various ingredients and begi...</td>\n",
              "      <td>yes</td>\n",
              "      <td>[{'entity': 'man', 'start_index': 4}, {'entity...</td>\n",
              "      <td>[the, man, mixes, up, various, ingredients, an...</td>\n",
              "      <td>14</td>\n",
              "    </tr>\n",
              "    <tr>\n",
              "      <th>3</th>\n",
              "      <td>3</td>\n",
              "      <td>He continues laying tiles on the floor while ...</td>\n",
              "      <td>yes</td>\n",
              "      <td>[{'entity': 'He', 'start_index': 0}, {'entity'...</td>\n",
              "      <td>[he, continues, laying, tiles, on, the, floor,...</td>\n",
              "      <td>16</td>\n",
              "    </tr>\n",
              "    <tr>\n",
              "      <th>4</th>\n",
              "      <td>4</td>\n",
              "      <td>Then one man stands in a field holding a woode...</td>\n",
              "      <td>yes</td>\n",
              "      <td>[{'entity': 'man', 'start_index': 9}, {'entity...</td>\n",
              "      <td>[then, one, man, stands, in, a, field, holding...</td>\n",
              "      <td>16</td>\n",
              "    </tr>\n",
              "  </tbody>\n",
              "</table>\n",
              "</div>\n",
              "      <button class=\"colab-df-convert\" onclick=\"convertToInteractive('df-de2e66b1-b9cc-4b7e-8271-398ea924c559')\"\n",
              "              title=\"Convert this dataframe to an interactive table.\"\n",
              "              style=\"display:none;\">\n",
              "        \n",
              "  <svg xmlns=\"http://www.w3.org/2000/svg\" height=\"24px\"viewBox=\"0 0 24 24\"\n",
              "       width=\"24px\">\n",
              "    <path d=\"M0 0h24v24H0V0z\" fill=\"none\"/>\n",
              "    <path d=\"M18.56 5.44l.94 2.06.94-2.06 2.06-.94-2.06-.94-.94-2.06-.94 2.06-2.06.94zm-11 1L8.5 8.5l.94-2.06 2.06-.94-2.06-.94L8.5 2.5l-.94 2.06-2.06.94zm10 10l.94 2.06.94-2.06 2.06-.94-2.06-.94-.94-2.06-.94 2.06-2.06.94z\"/><path d=\"M17.41 7.96l-1.37-1.37c-.4-.4-.92-.59-1.43-.59-.52 0-1.04.2-1.43.59L10.3 9.45l-7.72 7.72c-.78.78-.78 2.05 0 2.83L4 21.41c.39.39.9.59 1.41.59.51 0 1.02-.2 1.41-.59l7.78-7.78 2.81-2.81c.8-.78.8-2.07 0-2.86zM5.41 20L4 18.59l7.72-7.72 1.47 1.35L5.41 20z\"/>\n",
              "  </svg>\n",
              "      </button>\n",
              "      \n",
              "  <style>\n",
              "    .colab-df-container {\n",
              "      display:flex;\n",
              "      flex-wrap:wrap;\n",
              "      gap: 12px;\n",
              "    }\n",
              "\n",
              "    .colab-df-convert {\n",
              "      background-color: #E8F0FE;\n",
              "      border: none;\n",
              "      border-radius: 50%;\n",
              "      cursor: pointer;\n",
              "      display: none;\n",
              "      fill: #1967D2;\n",
              "      height: 32px;\n",
              "      padding: 0 0 0 0;\n",
              "      width: 32px;\n",
              "    }\n",
              "\n",
              "    .colab-df-convert:hover {\n",
              "      background-color: #E2EBFA;\n",
              "      box-shadow: 0px 1px 2px rgba(60, 64, 67, 0.3), 0px 1px 3px 1px rgba(60, 64, 67, 0.15);\n",
              "      fill: #174EA6;\n",
              "    }\n",
              "\n",
              "    [theme=dark] .colab-df-convert {\n",
              "      background-color: #3B4455;\n",
              "      fill: #D2E3FC;\n",
              "    }\n",
              "\n",
              "    [theme=dark] .colab-df-convert:hover {\n",
              "      background-color: #434B5C;\n",
              "      box-shadow: 0px 1px 3px 1px rgba(0, 0, 0, 0.15);\n",
              "      filter: drop-shadow(0px 1px 2px rgba(0, 0, 0, 0.3));\n",
              "      fill: #FFFFFF;\n",
              "    }\n",
              "  </style>\n",
              "\n",
              "      <script>\n",
              "        const buttonEl =\n",
              "          document.querySelector('#df-de2e66b1-b9cc-4b7e-8271-398ea924c559 button.colab-df-convert');\n",
              "        buttonEl.style.display =\n",
              "          google.colab.kernel.accessAllowed ? 'block' : 'none';\n",
              "\n",
              "        async function convertToInteractive(key) {\n",
              "          const element = document.querySelector('#df-de2e66b1-b9cc-4b7e-8271-398ea924c559');\n",
              "          const dataTable =\n",
              "            await google.colab.kernel.invokeFunction('convertToInteractive',\n",
              "                                                     [key], {});\n",
              "          if (!dataTable) return;\n",
              "\n",
              "          const docLinkHtml = 'Like what you see? Visit the ' +\n",
              "            '<a target=\"_blank\" href=https://colab.research.google.com/notebooks/data_table.ipynb>data table notebook</a>'\n",
              "            + ' to learn more about interactive tables.';\n",
              "          element.innerHTML = '';\n",
              "          dataTable['output_type'] = 'display_data';\n",
              "          await google.colab.output.renderOutput(dataTable, element);\n",
              "          const docLink = document.createElement('div');\n",
              "          docLink.innerHTML = docLinkHtml;\n",
              "          element.appendChild(docLink);\n",
              "        }\n",
              "      </script>\n",
              "    </div>\n",
              "  </div>\n",
              "  "
            ]
          },
          "metadata": {},
          "execution_count": 13
        }
      ]
    },
    {
      "cell_type": "code",
      "source": [
        "train['word_count'].describe()"
      ],
      "metadata": {
        "colab": {
          "base_uri": "https://localhost:8080/"
        },
        "id": "Z1ckAGPUTXJC",
        "outputId": "b65981a6-0fe3-4dc9-887f-10592f586e15"
      },
      "execution_count": null,
      "outputs": [
        {
          "output_type": "execute_result",
          "data": {
            "text/plain": [
              "count    23559.000000\n",
              "mean        21.025510\n",
              "std         13.404246\n",
              "min          3.000000\n",
              "25%         12.000000\n",
              "50%         17.000000\n",
              "75%         26.000000\n",
              "max        101.000000\n",
              "Name: word_count, dtype: float64"
            ]
          },
          "metadata": {},
          "execution_count": 14
        }
      ]
    },
    {
      "cell_type": "markdown",
      "source": [
        "This is the information I was hoping for! \n",
        "\n",
        "-The mean is the average sentence legnth.\n",
        "\n",
        "-std is standard deviation, meaning how far away from the average does the sentence legth vary. So in this case most sentences are between about 8 (21-13) and 34 (21 + 13) words long. Keep in mind, our vocabulary still includes puntuation marks. So, it is not the most accurate.\n",
        "\n",
        "-Min is the smallest sentence length, 3 words.\n",
        "\n",
        "-Max is the largest sentence length 101. I am terrified to even read that sentence. I may clean up some of the data by putting a limit to how large the sentence can be.\n",
        "The 75th percentile number to guide my decision. \n",
        "\n",
        "-The percentages are called percentiles. This shows how many sentences are that legth or smaller. For example, 50% of the sentences are 17 words or smaller. And 75% of the sentences are 26 words or less. A good max limit would be around 26-30 words long. This will guarentee that I would keep at least 75% of these sentences as data to feed the model."
      ],
      "metadata": {
        "id": "nhN-EAp3UTSY"
      }
    },
    {
      "cell_type": "markdown",
      "source": [
        "The next part is to clean up the tokens with a process called \"laminization\"\n",
        "\n",
        "The process cleans up the tokens by removing what are called \"stop words\". The frequenctly used common words like \"a\", \"the\", etc.\n",
        "\n",
        "Leminization also reduces words to their root meaning. This helps to reduce the overall number of unique tokens. This can help reduce complexity and increase speed of the model. In other words, lets the model learn quicker. "
      ],
      "metadata": {
        "id": "EeqN5KFVS6GX"
      }
    },
    {
      "cell_type": "code",
      "source": [
        "from nltk.stem import WordNetLemmatizer\n",
        "lemmatizer = WordNetLemmatizer()\n",
        "#train['tokens'] = train['tokens_raw'].apply(lambda x: [lemmatizer.lemmatize(w, pos=\"v\") for w in x])\n",
        "train['tokens'] = train['tokens_raw'].apply(lambda x: [lemmatizer.lemmatize(w) for w in x])\n",
        "train.head()"
      ],
      "metadata": {
        "colab": {
          "base_uri": "https://localhost:8080/",
          "height": 337
        },
        "id": "tNWCopHlZLEW",
        "outputId": "3568268b-8f51-467c-e91a-17fc71a4cf72"
      },
      "execution_count": null,
      "outputs": [
        {
          "output_type": "execute_result",
          "data": {
            "text/plain": [
              "   id                                           sentence motion  \\\n",
              "0   0       A little boy holding a yellow ball walks by.    yes   \n",
              "1   1        The camel walks as the woman leans forward.    yes   \n",
              "2   2   The man mixes up various ingredients and begi...    yes   \n",
              "3   3   He continues laying tiles on the floor while ...    yes   \n",
              "4   4  Then one man stands in a field holding a woode...    yes   \n",
              "\n",
              "                                     motion_entities  \\\n",
              "0  [{'entity': 'little boy', 'start_index': 2}, {...   \n",
              "1  [{'entity': 'camel', 'start_index': 4}, {'enti...   \n",
              "2  [{'entity': 'man', 'start_index': 4}, {'entity...   \n",
              "3  [{'entity': 'He', 'start_index': 0}, {'entity'...   \n",
              "4  [{'entity': 'man', 'start_index': 9}, {'entity...   \n",
              "\n",
              "                                          tokens_raw  word_count  \\\n",
              "0  [a, little, boy, holding, a, yellow, ball, wal...          10   \n",
              "1  [the, camel, walks, as, the, woman, leans, for...           9   \n",
              "2  [the, man, mixes, up, various, ingredients, an...          14   \n",
              "3  [he, continues, laying, tiles, on, the, floor,...          16   \n",
              "4  [then, one, man, stands, in, a, field, holding...          16   \n",
              "\n",
              "                                              tokens  \n",
              "0  [a, little, boy, holding, a, yellow, ball, wal...  \n",
              "1  [the, camel, walk, a, the, woman, lean, forwar...  \n",
              "2  [the, man, mix, up, various, ingredient, and, ...  \n",
              "3  [he, continues, laying, tile, on, the, floor, ...  \n",
              "4  [then, one, man, stand, in, a, field, holding,...  "
            ],
            "text/html": [
              "\n",
              "  <div id=\"df-835e4006-acc7-4761-a6f0-574eea447e93\">\n",
              "    <div class=\"colab-df-container\">\n",
              "      <div>\n",
              "<style scoped>\n",
              "    .dataframe tbody tr th:only-of-type {\n",
              "        vertical-align: middle;\n",
              "    }\n",
              "\n",
              "    .dataframe tbody tr th {\n",
              "        vertical-align: top;\n",
              "    }\n",
              "\n",
              "    .dataframe thead th {\n",
              "        text-align: right;\n",
              "    }\n",
              "</style>\n",
              "<table border=\"1\" class=\"dataframe\">\n",
              "  <thead>\n",
              "    <tr style=\"text-align: right;\">\n",
              "      <th></th>\n",
              "      <th>id</th>\n",
              "      <th>sentence</th>\n",
              "      <th>motion</th>\n",
              "      <th>motion_entities</th>\n",
              "      <th>tokens_raw</th>\n",
              "      <th>word_count</th>\n",
              "      <th>tokens</th>\n",
              "    </tr>\n",
              "  </thead>\n",
              "  <tbody>\n",
              "    <tr>\n",
              "      <th>0</th>\n",
              "      <td>0</td>\n",
              "      <td>A little boy holding a yellow ball walks by.</td>\n",
              "      <td>yes</td>\n",
              "      <td>[{'entity': 'little boy', 'start_index': 2}, {...</td>\n",
              "      <td>[a, little, boy, holding, a, yellow, ball, wal...</td>\n",
              "      <td>10</td>\n",
              "      <td>[a, little, boy, holding, a, yellow, ball, wal...</td>\n",
              "    </tr>\n",
              "    <tr>\n",
              "      <th>1</th>\n",
              "      <td>1</td>\n",
              "      <td>The camel walks as the woman leans forward.</td>\n",
              "      <td>yes</td>\n",
              "      <td>[{'entity': 'camel', 'start_index': 4}, {'enti...</td>\n",
              "      <td>[the, camel, walks, as, the, woman, leans, for...</td>\n",
              "      <td>9</td>\n",
              "      <td>[the, camel, walk, a, the, woman, lean, forwar...</td>\n",
              "    </tr>\n",
              "    <tr>\n",
              "      <th>2</th>\n",
              "      <td>2</td>\n",
              "      <td>The man mixes up various ingredients and begi...</td>\n",
              "      <td>yes</td>\n",
              "      <td>[{'entity': 'man', 'start_index': 4}, {'entity...</td>\n",
              "      <td>[the, man, mixes, up, various, ingredients, an...</td>\n",
              "      <td>14</td>\n",
              "      <td>[the, man, mix, up, various, ingredient, and, ...</td>\n",
              "    </tr>\n",
              "    <tr>\n",
              "      <th>3</th>\n",
              "      <td>3</td>\n",
              "      <td>He continues laying tiles on the floor while ...</td>\n",
              "      <td>yes</td>\n",
              "      <td>[{'entity': 'He', 'start_index': 0}, {'entity'...</td>\n",
              "      <td>[he, continues, laying, tiles, on, the, floor,...</td>\n",
              "      <td>16</td>\n",
              "      <td>[he, continues, laying, tile, on, the, floor, ...</td>\n",
              "    </tr>\n",
              "    <tr>\n",
              "      <th>4</th>\n",
              "      <td>4</td>\n",
              "      <td>Then one man stands in a field holding a woode...</td>\n",
              "      <td>yes</td>\n",
              "      <td>[{'entity': 'man', 'start_index': 9}, {'entity...</td>\n",
              "      <td>[then, one, man, stands, in, a, field, holding...</td>\n",
              "      <td>16</td>\n",
              "      <td>[then, one, man, stand, in, a, field, holding,...</td>\n",
              "    </tr>\n",
              "  </tbody>\n",
              "</table>\n",
              "</div>\n",
              "      <button class=\"colab-df-convert\" onclick=\"convertToInteractive('df-835e4006-acc7-4761-a6f0-574eea447e93')\"\n",
              "              title=\"Convert this dataframe to an interactive table.\"\n",
              "              style=\"display:none;\">\n",
              "        \n",
              "  <svg xmlns=\"http://www.w3.org/2000/svg\" height=\"24px\"viewBox=\"0 0 24 24\"\n",
              "       width=\"24px\">\n",
              "    <path d=\"M0 0h24v24H0V0z\" fill=\"none\"/>\n",
              "    <path d=\"M18.56 5.44l.94 2.06.94-2.06 2.06-.94-2.06-.94-.94-2.06-.94 2.06-2.06.94zm-11 1L8.5 8.5l.94-2.06 2.06-.94-2.06-.94L8.5 2.5l-.94 2.06-2.06.94zm10 10l.94 2.06.94-2.06 2.06-.94-2.06-.94-.94-2.06-.94 2.06-2.06.94z\"/><path d=\"M17.41 7.96l-1.37-1.37c-.4-.4-.92-.59-1.43-.59-.52 0-1.04.2-1.43.59L10.3 9.45l-7.72 7.72c-.78.78-.78 2.05 0 2.83L4 21.41c.39.39.9.59 1.41.59.51 0 1.02-.2 1.41-.59l7.78-7.78 2.81-2.81c.8-.78.8-2.07 0-2.86zM5.41 20L4 18.59l7.72-7.72 1.47 1.35L5.41 20z\"/>\n",
              "  </svg>\n",
              "      </button>\n",
              "      \n",
              "  <style>\n",
              "    .colab-df-container {\n",
              "      display:flex;\n",
              "      flex-wrap:wrap;\n",
              "      gap: 12px;\n",
              "    }\n",
              "\n",
              "    .colab-df-convert {\n",
              "      background-color: #E8F0FE;\n",
              "      border: none;\n",
              "      border-radius: 50%;\n",
              "      cursor: pointer;\n",
              "      display: none;\n",
              "      fill: #1967D2;\n",
              "      height: 32px;\n",
              "      padding: 0 0 0 0;\n",
              "      width: 32px;\n",
              "    }\n",
              "\n",
              "    .colab-df-convert:hover {\n",
              "      background-color: #E2EBFA;\n",
              "      box-shadow: 0px 1px 2px rgba(60, 64, 67, 0.3), 0px 1px 3px 1px rgba(60, 64, 67, 0.15);\n",
              "      fill: #174EA6;\n",
              "    }\n",
              "\n",
              "    [theme=dark] .colab-df-convert {\n",
              "      background-color: #3B4455;\n",
              "      fill: #D2E3FC;\n",
              "    }\n",
              "\n",
              "    [theme=dark] .colab-df-convert:hover {\n",
              "      background-color: #434B5C;\n",
              "      box-shadow: 0px 1px 3px 1px rgba(0, 0, 0, 0.15);\n",
              "      filter: drop-shadow(0px 1px 2px rgba(0, 0, 0, 0.3));\n",
              "      fill: #FFFFFF;\n",
              "    }\n",
              "  </style>\n",
              "\n",
              "      <script>\n",
              "        const buttonEl =\n",
              "          document.querySelector('#df-835e4006-acc7-4761-a6f0-574eea447e93 button.colab-df-convert');\n",
              "        buttonEl.style.display =\n",
              "          google.colab.kernel.accessAllowed ? 'block' : 'none';\n",
              "\n",
              "        async function convertToInteractive(key) {\n",
              "          const element = document.querySelector('#df-835e4006-acc7-4761-a6f0-574eea447e93');\n",
              "          const dataTable =\n",
              "            await google.colab.kernel.invokeFunction('convertToInteractive',\n",
              "                                                     [key], {});\n",
              "          if (!dataTable) return;\n",
              "\n",
              "          const docLinkHtml = 'Like what you see? Visit the ' +\n",
              "            '<a target=\"_blank\" href=https://colab.research.google.com/notebooks/data_table.ipynb>data table notebook</a>'\n",
              "            + ' to learn more about interactive tables.';\n",
              "          element.innerHTML = '';\n",
              "          dataTable['output_type'] = 'display_data';\n",
              "          await google.colab.output.renderOutput(dataTable, element);\n",
              "          const docLink = document.createElement('div');\n",
              "          docLink.innerHTML = docLinkHtml;\n",
              "          element.appendChild(docLink);\n",
              "        }\n",
              "      </script>\n",
              "    </div>\n",
              "  </div>\n",
              "  "
            ]
          },
          "metadata": {},
          "execution_count": 15
        }
      ]
    },
    {
      "cell_type": "code",
      "source": [
        "#This will create a vocabulary of words that are model will know.\n",
        "#and analyze the sentences better\n",
        "def create_vocab_list(tokens_column):\n",
        "    vocab = dict()\n",
        "    for tweet_tokens in tokens_column:\n",
        "        for token in tweet_tokens:\n",
        "            if token not in vocab:\n",
        "                vocab[token] = 1\n",
        "            else:\n",
        "                vocab[token] += 1\n",
        "    return vocab\n",
        "#This will look at the tokens created by the lemmanizer.\n",
        "vocab_all = dict(sorted(create_vocab_list(train['tokens']).items(), key=lambda item: item[1], reverse=True))\n",
        "print(f\"number of unique tokens overall: {len(vocab_all)}\")"
      ],
      "metadata": {
        "colab": {
          "base_uri": "https://localhost:8080/"
        },
        "id": "Ziz8JiYRRnZi",
        "outputId": "8c68eb92-f11e-491e-8d77-f9fe4fe4eb8f"
      },
      "execution_count": null,
      "outputs": [
        {
          "output_type": "stream",
          "name": "stdout",
          "text": [
            "number of unique tokens overall: 23269\n"
          ]
        }
      ]
    },
    {
      "cell_type": "markdown",
      "source": [
        "We now see how many unique words are in the dataset. And below we can see what are the most frequently used words are. I tried runing the unique tokens without lemmanization. And it had about 26,000 unique word tokens. "
      ],
      "metadata": {
        "id": "tIsNxuMicDIZ"
      }
    },
    {
      "cell_type": "code",
      "source": [
        "list(vocab_all.items())[:20] # a better lemenizer is probably needed"
      ],
      "metadata": {
        "colab": {
          "base_uri": "https://localhost:8080/"
        },
        "id": "pQ3MvDwwSRl0",
        "outputId": "2c6851cc-e08a-49b5-ea74-1fd70fa2c436"
      },
      "execution_count": null,
      "outputs": [
        {
          "output_type": "execute_result",
          "data": {
            "text/plain": [
              "[('the', 33750),\n",
              " (',', 24781),\n",
              " ('.', 22916),\n",
              " ('a', 19421),\n",
              " ('and', 17496),\n",
              " ('of', 10733),\n",
              " ('to', 10695),\n",
              " ('in', 7778),\n",
              " ('he', 6392),\n",
              " ('his', 5663),\n",
              " ('on', 5127),\n",
              " ('with', 4702),\n",
              " ('it', 4080),\n",
              " ('wa', 4007),\n",
              " ('her', 3727),\n",
              " ('that', 3183),\n",
              " ('is', 3104),\n",
              " ('i', 3072),\n",
              " ('she', 3043),\n",
              " ('man', 3031)]"
            ]
          },
          "metadata": {},
          "execution_count": 17
        }
      ]
    },
    {
      "cell_type": "markdown",
      "source": [
        "We can see that puntuation is still used in the vocabulary. From here we can either look for a better lemmenizer or manually clean up the vocabulary list. Cleaning up the data is bennificial because clean simple data helps models learn quickly and efficently. Just like when children are learning, you use the simplest and smallest examples possible. \n",
        "\n",
        "\n",
        "Once, that is done the data will be ready to be fed into the model. The columns that I will eventually feed into the model are \"tokens\" and \"word_count\"."
      ],
      "metadata": {
        "id": "nnL10lvtAAG1"
      }
    }
  ],
  "metadata": {
    "kernelspec": {
      "display_name": "Python 3.9.12 ('base')",
      "language": "python",
      "name": "python3"
    },
    "language_info": {
      "codemirror_mode": {
        "name": "ipython",
        "version": 3
      },
      "file_extension": ".py",
      "mimetype": "text/x-python",
      "name": "python",
      "nbconvert_exporter": "python",
      "pygments_lexer": "ipython3",
      "version": "3.9.13"
    },
    "orig_nbformat": 4,
    "vscode": {
      "interpreter": {
        "hash": "bb3398f4b21c7b026dd5874af3f954bf25f1e8ff81e25d82a94abcbbaacf760b"
      }
    },
    "colab": {
      "provenance": [],
      "include_colab_link": true
    }
  },
  "nbformat": 4,
  "nbformat_minor": 0
}