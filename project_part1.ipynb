{
  "cells": [
    {
      "cell_type": "markdown",
      "metadata": {
        "id": "view-in-github",
        "colab_type": "text"
      },
      "source": [
        "<a href=\"https://colab.research.google.com/github/jblss888/cs39aa_project/blob/main/project_part1.ipynb\" target=\"_parent\"><img src=\"https://colab.research.google.com/assets/colab-badge.svg\" alt=\"Open In Colab\"/></a>"
      ]
    },
    {
      "cell_type": "markdown",
      "metadata": {
        "id": "K_ezlUWEVkFO"
      },
      "source": [
        "# Project Part 1, Juliet Smith\n",
        "\n",
        "__Note you will want to remove the text above, and in the markdown cells below, and replace it with your own text describing the dataset, task, exploratory steps, etc.__"
      ]
    },
    {
      "cell_type": "markdown",
      "metadata": {
        "id": "At9uoqsQVkFW"
      },
      "source": [
        "## Introduction/Background\n",
        "\n",
        "_In this section you will describe (in English) the dataset you are using as well as the NLP problem it deals with. For example, if you are planning to use the Twitter Natural Disaster dataset, then you will describe what the data and where it came as if you were explaining it to someone who does not know anything about the data. You will then describe how this is a __text classification__ problem, and that the labels are binary (e.g. a tweet either refers to a genuine/real natural disaster, or it does not)._ \n",
        "\n",
        "_Overall, this should be about a paragraph of text that could be read by someone outside of our class, and they could still understand what it is your project is doing._ \n",
        "\n",
        "_Note that you should __not__ simply write one sentence stating, \"This project is base on the Kaggle competition: Predicting Natural Disasters with Twitter._\"\n",
        "\n",
        "_If you are still looking for datasets to use, consider the following resources to explore text datasets._\n",
        "\n",
        "* https://huggingface.co/datasets\n",
        "* https://www.kaggle.com/datasets\n",
        "* https://pytorch.org/text/stable/datasets.html\n",
        "* https://github.com/niderhoff/nlp-datasets \n",
        "* https://medium.com/@ODSC/20-open-datasets-for-natural-language-processing-538fbfaf8e38 \n",
        "* https://imerit.net/blog/25-best-nlp-datasets-for-machine-learning-all-pbm/ \n",
        "* https://index.quantumstat.com/#dataset\n"
      ]
    },
    {
      "cell_type": "markdown",
      "metadata": {
        "id": "QiEDKq2rVkFX"
      },
      "source": [
        "## Exploratory Data Analysis\n",
        "\n",
        "_You will now load the dataset and carry out some exploratory data analysis steps to better understand what text data looks like. See the examples from class on 10/. The following links provide some good resources of exploratory analyses of text data with Python._\n",
        "\n",
        "\n",
        "* https://neptune.ai/blog/exploratory-data-analysis-natural-language-processing-tools\n",
        "* https://regenerativetoday.com/exploratory-data-analysis-of-text-data-including-visualization-and-sentiment-analysis/\n",
        "* https://medium.com/swlh/text-summarization-guide-exploratory-data-analysis-on-text-data-4e22ce2dd6ad  \n",
        "* https://www.kdnuggets.com/2019/05/complete-exploratory-data-analysis-visualization-text-data.html  \n"
      ]
    },
    {
      "cell_type": "code",
      "execution_count": null,
      "metadata": {
        "id": "gd5nFJoMVkFY"
      },
      "outputs": [],
      "source": [
        "# import all of the python modules/packages you'll need here\n",
        "import pandas as pd\n",
        "# ..."
      ]
    },
    {
      "cell_type": "code",
      "execution_count": null,
      "metadata": {
        "id": "QnsgvCGrVkFa"
      },
      "outputs": [],
      "source": []
    }
  ],
  "metadata": {
    "kernelspec": {
      "display_name": "Python 3.9.12 ('base')",
      "language": "python",
      "name": "python3"
    },
    "language_info": {
      "codemirror_mode": {
        "name": "ipython",
        "version": 3
      },
      "file_extension": ".py",
      "mimetype": "text/x-python",
      "name": "python",
      "nbconvert_exporter": "python",
      "pygments_lexer": "ipython3",
      "version": "3.9.13"
    },
    "orig_nbformat": 4,
    "vscode": {
      "interpreter": {
        "hash": "bb3398f4b21c7b026dd5874af3f954bf25f1e8ff81e25d82a94abcbbaacf760b"
      }
    },
    "colab": {
      "provenance": [],
      "include_colab_link": true
    }
  },
  "nbformat": 4,
  "nbformat_minor": 0
}